{
 "cells": [
  {
   "cell_type": "markdown",
   "id": "b9493ac3",
   "metadata": {},
   "source": [
    "## 🛠 Prerequisites:\n",
    "\n",
    "OpenWeatherMap API Key:\n",
    "\n",
    "- Go to https://openweathermap.org/\n",
    "- Sign up for a free account.\n",
    "- Once logged in, go to your API keys (usually found under your profile or \"My API Keys\").\n",
    "- Copy your API key. It might take a few minutes for a new API key to become active."
   ]
  },
  {
   "cell_type": "code",
   "execution_count": 24,
   "id": "c086efcf",
   "metadata": {},
   "outputs": [],
   "source": [
    "import os\n",
    "import pandas as pd\n",
    "from dotenv import load_dotenv\n",
    "\n",
    "# Load .env variables\n",
    "load_dotenv()\n",
    "\n",
    "# Get API key from .env\n",
    "API_KEY = os.getenv(\"OPENWEATHER_API_KEY\")\n"
   ]
  },
  {
   "cell_type": "code",
   "execution_count": 25,
   "id": "e4bc1861",
   "metadata": {},
   "outputs": [
    {
     "name": "stdout",
     "output_type": "stream",
     "text": [
      "API key found.\n",
      "Fetching weather data for Kuala Lumpur\n"
     ]
    }
   ],
   "source": [
    "city = \"Kuala Lumpur\"\n",
    "if not API_KEY:\n",
    "    raise ValueError(\"API key not found. Please set the OPENWEATHER_API_KEY environment variable.\")\n",
    "else:\n",
    "    print(\"API key found.\")\n",
    "    url = f\"https://api.openweathermap.org/data/2.5/weather?q={city}&appid={API_KEY}&units=metric\"\n",
    "    print(f\"Fetching weather data for {city}\")"
   ]
  },
  {
   "cell_type": "code",
   "execution_count": 7,
   "id": "b069bec2",
   "metadata": {},
   "outputs": [
    {
     "name": "stdout",
     "output_type": "stream",
     "text": [
      "Weather in Kuala Lumpur, MY:\n",
      "  Description: Few clouds\n",
      "  Temperature: 31.25°C\n",
      "  Feels like:  37.65°C\n",
      "  Humidity:    68%\n",
      "  Wind Speed:  3.09 m/s\n",
      "  Pressure:    1007 hPa\n"
     ]
    }
   ],
   "source": [
    "import requests\n",
    "import json # Optional, for pretty printing JSON\n",
    "\n",
    "def get_weather_data(api_key, city_name):\n",
    "    \"\"\"\n",
    "    Fetches current weather data for a given city using OpenWeatherMap API.\n",
    "\n",
    "    Args:\n",
    "        api_key (str): Your OpenWeatherMap API key.\n",
    "        city_name (str): The name of the city to get weather for.\n",
    "\n",
    "    Returns:\n",
    "        dict: A dictionary containing weather data if successful, None otherwise.\n",
    "    \"\"\"\n",
    "    base_url = \"http://api.openweathermap.org/data/2.5/weather\"\n",
    "    params = {\n",
    "        \"q\": city_name,\n",
    "        \"appid\": api_key,\n",
    "        \"units\": \"metric\"  # You can change to \"imperial\" for Fahrenheit\n",
    "    }\n",
    "\n",
    "    try:\n",
    "        response = requests.get(base_url, params=params)\n",
    "        response.raise_for_status()  # Raise an HTTPError for bad responses (4xx or 5xx)\n",
    "        weather_data = response.json()\n",
    "        return weather_data\n",
    "    except requests.exceptions.HTTPError as errh:\n",
    "        print(f\"Http Error: {errh}\")\n",
    "    except requests.exceptions.ConnectionError as errc:\n",
    "        print(f\"Error Connecting: {errc}\")\n",
    "    except requests.exceptions.Timeout as errt:\n",
    "        print(f\"Timeout Error: {errt}\")\n",
    "    except requests.exceptions.RequestException as err:\n",
    "        print(f\"Something went wrong: {err}\")\n",
    "    return None\n",
    "\n",
    "def display_weather(weather_data):\n",
    "    \"\"\"\n",
    "    Prints formatted weather information from the dictionary.\n",
    "    \"\"\"\n",
    "    if weather_data:\n",
    "        print(f\"Weather in {weather_data['name']}, {weather_data['sys']['country']}:\")\n",
    "        print(f\"  Description: {weather_data['weather'][0]['description'].capitalize()}\")\n",
    "        print(f\"  Temperature: {weather_data['main']['temp']}°C\")\n",
    "        print(f\"  Feels like:  {weather_data['main']['feels_like']}°C\")\n",
    "        print(f\"  Humidity:    {weather_data['main']['humidity']}%\")\n",
    "        print(f\"  Wind Speed:  {weather_data['wind']['speed']} m/s\")\n",
    "        print(f\"  Pressure:    {weather_data['main']['pressure']} hPa\")\n",
    "    else:\n",
    "        print(\"Could not retrieve weather data.\")\n",
    "\n",
    "if __name__ == \"__main__\":\n",
    "    # IMPORTANT: Replace 'YOUR_API_KEY' with your actual OpenWeatherMap API key\n",
    "    api_key = API_KEY \n",
    "    # city = input(\"Enter city name: \")\n",
    "    city = \"Kuala Lumpur\"  # You can change this to any city you want\n",
    "\n",
    "    if api_key == \"YOUR_API_KEY\":\n",
    "        print(\"Please replace 'YOUR_API_KEY' with your actual OpenWeatherMap API key.\")\n",
    "    else:\n",
    "        weather = get_weather_data(api_key, city)\n",
    "        if weather:\n",
    "            # You can uncomment the line below to see the full JSON response\n",
    "            # print(json.dumps(weather, indent=4))\n",
    "            display_weather(weather)"
   ]
  },
  {
   "cell_type": "code",
   "execution_count": 26,
   "id": "7523ccd6",
   "metadata": {},
   "outputs": [
    {
     "data": {
      "text/plain": [
       "{'coord': {'lon': 101.6865, 'lat': 3.1431},\n",
       " 'weather': [{'id': 801,\n",
       "   'main': 'Clouds',\n",
       "   'description': 'few clouds',\n",
       "   'icon': '02d'}],\n",
       " 'base': 'stations',\n",
       " 'main': {'temp': 31.81,\n",
       "  'feels_like': 38.17,\n",
       "  'temp_min': 31.81,\n",
       "  'temp_max': 33.75,\n",
       "  'pressure': 1007,\n",
       "  'humidity': 65,\n",
       "  'sea_level': 1007,\n",
       "  'grnd_level': 994},\n",
       " 'visibility': 10000,\n",
       " 'wind': {'speed': 3.09, 'deg': 170},\n",
       " 'clouds': {'all': 20},\n",
       " 'dt': 1749619800,\n",
       " 'sys': {'type': 2,\n",
       "  'id': 2089667,\n",
       "  'country': 'MY',\n",
       "  'sunrise': 1749596639,\n",
       "  'sunset': 1749640917},\n",
       " 'timezone': 28800,\n",
       " 'id': 1733046,\n",
       " 'name': 'Kuala Lumpur',\n",
       " 'cod': 200}"
      ]
     },
     "execution_count": 26,
     "metadata": {},
     "output_type": "execute_result"
    }
   ],
   "source": [
    "city_name = \"Kuala Lumpur\"\n",
    "api_key = API_KEY\n",
    "base_url = \"http://api.openweathermap.org/data/2.5/weather\"\n",
    "params = {\n",
    "    \"q\": city_name,\n",
    "    \"appid\": api_key,\n",
    "    \"units\": \"metric\"  # You can change to \"imperial\" for Fahrenheit\n",
    "}\n",
    "# response = requests.get(base_url, params=params)\n",
    "response = requests.get(url)\n",
    "response.raise_for_status()  # Raise an HTTPError for bad responses (4xx or 5xx)\n",
    "weather_data = response.json()\n",
    "weather_data"
   ]
  },
  {
   "cell_type": "code",
   "execution_count": null,
   "id": "bfa9bad3",
   "metadata": {},
   "outputs": [],
   "source": [
    "cities = [\"Kuala Lumpur\", \"Jakarta\", \"Bangkok\", \"Singapore\", \"Manila\"]\n",
    "results = []\n",
    "\n",
    "for city in cities:\n",
    "    params = {\"q\": city, \"appid\": API_KEY, \"units\": \"metric\"}\n",
    "    r = requests.get(BASE_URL, params=params)\n",
    "    d = r.json()\n",
    "\n",
    "    results.append({\n",
    "        \"city\": city,\n",
    "        \"temperature\": d.get(\"main\", {}).get(\"temp\"),\n",
    "        \"humidity\": d.get(\"main\", {}).get(\"humidity\"),\n",
    "        \"weather\": d.get(\"weather\", [{}])[0].get(\"description\"),\n",
    "        \"datetime\": datetime.now().strftime(\"%Y-%m-%d %H:%M:%S\")\n",
    "    })\n",
    "\n",
    "df = pd.DataFrame(results)\n",
    "print(df)"
   ]
  },
  {
   "cell_type": "code",
   "execution_count": 28,
   "id": "a5beb9ff",
   "metadata": {},
   "outputs": [
    {
     "name": "stdout",
     "output_type": "stream",
     "text": [
      "           city  temperature  humidity           weather             datetime\n",
      "0  Kuala Lumpur        32.36        67        few clouds  2025-06-11 13:43:55\n",
      "1       Jakarta        31.55        65  scattered clouds  2025-06-11 13:43:55\n",
      "2       Bangkok        31.61        64   overcast clouds  2025-06-11 13:43:55\n",
      "3     Singapore        30.42        65  scattered clouds  2025-06-11 13:43:55\n",
      "4        Manila        28.78        82   overcast clouds  2025-06-11 13:43:55\n"
     ]
    }
   ],
   "source": [
    "# transform json data to pandas DataFrame\n",
    "from datetime import datetime\n",
    "\n",
    "cities = [\"Kuala Lumpur\", \"Jakarta\", \"Bangkok\", \"Singapore\", \"Manila\"]\n",
    "results = []\n",
    "for city in cities:\n",
    "    params = {\n",
    "        \"q\":city,\n",
    "        \"appid\": API_KEY,\n",
    "        \"units\": \"metric\"\n",
    "    }\n",
    "    r = requests.get(base_url, params=params)\n",
    "    d = r.json()\n",
    "    results.append({\n",
    "        \"city\": city,\n",
    "        \"temperature\": d.get(\"main\", {}).get(\"temp\"),\n",
    "        \"humidity\": d.get(\"main\", {}).get(\"humidity\"),\n",
    "        \"weather\": d.get(\"weather\", [{}])[0].get(\"description\"),\n",
    "        \"datetime\": datetime.now().strftime(\"%Y-%m-%d %H:%M:%S\")\n",
    "    })\n",
    "df = pd.DataFrame(results)\n",
    "print(df)"
   ]
  },
  {
   "cell_type": "code",
   "execution_count": null,
   "id": "9800adfd",
   "metadata": {},
   "outputs": [],
   "source": [
    "# %% weather_pipeline.py\n",
    "import requests\n",
    "import os\n",
    "from dotenv import load_dotenv\n",
    "import pandas as pd\n",
    "from datetime import datetime\n",
    "\n",
    "load_dotenv()\n",
    "API_KEY = os.getenv(\"OPENWEATHER_API_KEY\")\n",
    "BASE_URL = \"https://api.openweathermap.org/data/2.5/weather\"\n",
    "\n",
    "# %% Fetch weather data for multiple cities\n",
    "cities = [\"Kuala Lumpur\", \"Jakarta\", \"Bangkok\", \"Singapore\", \"Manila\"]\n",
    "results = []\n",
    "\n",
    "for city in cities:\n",
    "    params = {\"q\": city, \"appid\": API_KEY, \"units\": \"metric\"}\n",
    "    r = requests.get(BASE_URL, params=params)\n",
    "    d = r.json()\n",
    "\n",
    "    results.append({\n",
    "        \"city\": city,\n",
    "        \"temperature\": d.get(\"main\", {}).get(\"temp\"),\n",
    "        \"humidity\": d.get(\"main\", {}).get(\"humidity\"),\n",
    "        \"weather\": d.get(\"weather\", [{}])[0].get(\"description\"),\n",
    "        \"datetime\": datetime.now().strftime(\"%Y-%m-%d %H:%M:%S\")\n",
    "    })\n",
    "\n",
    "df = pd.DataFrame(results)\n",
    "print(df)\n",
    "\n",
    "#%% Save to CSV\n",
    "output_file = f\"weather_data_{datetime.now().strftime('%Y%m%d_%H%M%S')}.csv\"\n",
    "df.to_csv(output_file, index=False)\n",
    "print(f\"Saved to {output_file}\")\n",
    "\n",
    "# %%\n"
   ]
  }
 ],
 "metadata": {
  "kernelspec": {
   "display_name": "venv",
   "language": "python",
   "name": "python3"
  },
  "language_info": {
   "codemirror_mode": {
    "name": "ipython",
    "version": 3
   },
   "file_extension": ".py",
   "mimetype": "text/x-python",
   "name": "python",
   "nbconvert_exporter": "python",
   "pygments_lexer": "ipython3",
   "version": "3.10.8"
  }
 },
 "nbformat": 4,
 "nbformat_minor": 5
}
